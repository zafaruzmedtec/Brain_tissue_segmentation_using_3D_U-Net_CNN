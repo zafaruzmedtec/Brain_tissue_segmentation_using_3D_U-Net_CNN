{
 "cells": [
  {
   "cell_type": "code",
   "execution_count": 7,
   "metadata": {},
   "outputs": [],
   "source": [
    "import numpy as np\n",
    "import nibabel as nib\n",
    "import os\n",
    "import glob\n",
    "from skimage.exposure import rescale_intensity\n",
    "from scipy.ndimage import morphology\n",
    "import SimpleITK as sitk"
   ]
  },
  {
   "cell_type": "code",
   "execution_count": 2,
   "metadata": {},
   "outputs": [],
   "source": [
    "def match_histo(): \n",
    "    template = glob.glob(os.path.join('.',  \"Data\", 'Train','img','IBSR_06.nii'))\n",
    "    images = glob.glob(os.path.join('.', \"Data\", '*','img','*'))\n",
    "    output = glob.glob(os.path.join('.', \"Data_processed\"))\n",
    "    \n",
    "    template_nii = nib.load(template[0])\n",
    "    template_data = template_nii.get_fdata().astype('float32')\n",
    "    template_data = np.squeeze(template_data)\n",
    "    for image in images:\n",
    "        img_nii = nib.load(image)\n",
    "        affine=img_nii.affine\n",
    "        img = img_nii.get_fdata().astype('float32')\n",
    "        img = np.squeeze(img)\n",
    "    \n",
    "        img_matched = histmatch(img,template_data)\n",
    "        img_matched = nib.Nifti1Image(img_matched, affine= affine)\n",
    "        print(os.path.basename(image) )\n",
    "        print(output[0])\n",
    "        print(os.path.join(output[0],os.path.basename(image)))\n",
    "        nib.save(img_matched, os.path.join(output[0],os.path.basename(image)))"
   ]
  },
  {
   "cell_type": "code",
   "execution_count": 3,
   "metadata": {},
   "outputs": [],
   "source": [
    "def Adativehistogram_equalization(ref,alpha,beta):\n",
    "\n",
    "    histogramEqualization = sitk.AdaptiveHistogramEqualizationImageFilter()\n",
    "    \n",
    "    histogramEqualization.SetAlpha(alpha)\n",
    "    histogramEqualization.SetBeta(beta)\n",
    "    equalized_volume = histogramEqualization.Execute(ref)\n",
    "    \n",
    "    \n",
    "    return equalized_volume"
   ]
  },
  {
   "cell_type": "code",
   "execution_count": 8,
   "metadata": {},
   "outputs": [],
   "source": [
    "#Adaptive Histogram Equalization for reference Image\n",
    "\n",
    "maskPath = './Data/Train/seg/IBSR_06.nii'\n",
    "refImgPath = './Data/Train/img/IBSR_06.nii'\n",
    "masknib = nib.load(maskPath)\n",
    "maskData = masknib.get_fdata()\n",
    "maskData = np.squeeze(maskData)\n",
    "maskData[maskData==2]=1\n",
    "maskData[maskData==3]=1\n",
    "labels=maskData\n",
    "labels= labels.astype(bool)\n",
    "allLabels = np.empty(shape=[masknib.shape[0],masknib.shape[1],masknib.shape[2]], dtype='bool')\n",
    "\n",
    "for i in range(masknib.shape[2]):\n",
    "    allLabels[:,:,i]=morphology.binary_fill_holes(labels[:,:,i],structure=np.ones((5,5)))\n",
    "allLabels= allLabels.astype(int)\n",
    "maskData=allLabels\n",
    "\n",
    "imgnib =nib.load(refImgPath)\n",
    "affine=imgnib.affine\n",
    "itkimage = sitk.ReadImage(refImgPath)\n",
    "volume = Adativehistogram_equalization(itkimage,alpha=0.5,beta=0.5)\n",
    "arrayImage = sitk.GetArrayFromImage(volume)\n",
    "arraynp = np.array(arrayImage)\n",
    "arraynp=np.swapaxes(arraynp, 0, 2)\n",
    "\n",
    "\n",
    "finalResult = np.multiply(maskData,arraynp)\n",
    "image=finalResult\n",
    "rescalefinalResult = rescale_intensity(image, in_range='image', out_range=(0,255))\n",
    "#result=np.swapaxes(finalResult, 0, 2)\n",
    "\n",
    "img = nib.Nifti1Image(rescalefinalResult, affine=affine)\n",
    "volName = 'AHE_IBSR_06.nii'\n",
    "nib.save(img, os.path.join('./', volName))\n"
   ]
  },
  {
   "cell_type": "code",
   "execution_count": 60,
   "metadata": {},
   "outputs": [],
   "source": [
    "\n",
    "def histmatch(im_ref,im_t):\n",
    "    n_bins = 256\n",
    "    \n",
    "    ref_hist,bins = np.histogram( im_ref.flatten(), n_bins, density = True )\n",
    "    t_hist,bins = np.histogram( im_t.flatten(), n_bins, density = True )\n",
    "    \n",
    "    cdf_ref = ref_hist.cumsum()\n",
    "    cdf_t = t_hist.cumsum()\n",
    "    cdf_ref = (255 * cdf_ref / cdf_ref[-1]).astype(np.uint8) #normalize\n",
    "    cdf_t = (255 * cdf_t / cdf_t[-1]).astype(np.uint8) #normalize\n",
    "    \n",
    "    im_tmp = np.interp( im_ref.flatten(), bins[:-1],cdf_ref)\n",
    "    im_ret = np.interp( im_tmp, cdf_t, bins[:-1])\n",
    "    \n",
    "    im_ret = im_ret.reshape( im_ref.shape)\n",
    "    return im_ret\n"
   ]
  },
  {
   "cell_type": "code",
   "execution_count": 61,
   "metadata": {},
   "outputs": [
    {
     "name": "stdout",
     "output_type": "stream",
     "text": [
      "IBSR_02.nii\n",
      ".\\Data_processed\n",
      ".\\Data_processed\\IBSR_02.nii\n",
      "IBSR_10.nii\n",
      ".\\Data_processed\n",
      ".\\Data_processed\\IBSR_10.nii\n",
      "IBSR_15.nii\n",
      ".\\Data_processed\n",
      ".\\Data_processed\\IBSR_15.nii\n",
      "IBSR_01.nii\n",
      ".\\Data_processed\n",
      ".\\Data_processed\\IBSR_01.nii\n",
      "IBSR_03.nii\n",
      ".\\Data_processed\n",
      ".\\Data_processed\\IBSR_03.nii\n",
      "IBSR_04.nii\n",
      ".\\Data_processed\n",
      ".\\Data_processed\\IBSR_04.nii\n",
      "IBSR_05.nii\n",
      ".\\Data_processed\n",
      ".\\Data_processed\\IBSR_05.nii\n",
      "IBSR_06.nii\n",
      ".\\Data_processed\n",
      ".\\Data_processed\\IBSR_06.nii\n",
      "IBSR_07.nii\n",
      ".\\Data_processed\n",
      ".\\Data_processed\\IBSR_07.nii\n",
      "IBSR_08.nii\n",
      ".\\Data_processed\n",
      ".\\Data_processed\\IBSR_08.nii\n",
      "IBSR_09.nii\n",
      ".\\Data_processed\n",
      ".\\Data_processed\\IBSR_09.nii\n",
      "IBSR_16.nii\n",
      ".\\Data_processed\n",
      ".\\Data_processed\\IBSR_16.nii\n",
      "IBSR_18.nii\n",
      ".\\Data_processed\n",
      ".\\Data_processed\\IBSR_18.nii\n",
      "IBSR_11.nii\n",
      ".\\Data_processed\n",
      ".\\Data_processed\\IBSR_11.nii\n",
      "IBSR_12.nii\n",
      ".\\Data_processed\n",
      ".\\Data_processed\\IBSR_12.nii\n",
      "IBSR_13.nii\n",
      ".\\Data_processed\n",
      ".\\Data_processed\\IBSR_13.nii\n",
      "IBSR_14.nii\n",
      ".\\Data_processed\n",
      ".\\Data_processed\\IBSR_14.nii\n",
      "IBSR_17.nii\n",
      ".\\Data_processed\n",
      ".\\Data_processed\\IBSR_17.nii\n"
     ]
    }
   ],
   "source": [
    "match_histo()"
   ]
  },
  {
   "cell_type": "code",
   "execution_count": 13,
   "metadata": {},
   "outputs": [],
   "source": [
    "template = glob.glob(os.path.join('.','template.nii' ))"
   ]
  },
  {
   "cell_type": "code",
   "execution_count": 20,
   "metadata": {},
   "outputs": [
    {
     "ename": "NameError",
     "evalue": "name 'image' is not defined",
     "output_type": "error",
     "traceback": [
      "\u001b[1;31m---------------------------------------------------------------------------\u001b[0m",
      "\u001b[1;31mNameError\u001b[0m                                 Traceback (most recent call last)",
      "\u001b[1;32m<ipython-input-20-33c7d097a1c2>\u001b[0m in \u001b[0;36m<module>\u001b[1;34m\u001b[0m\n\u001b[1;32m----> 1\u001b[1;33m \u001b[0mos\u001b[0m\u001b[1;33m.\u001b[0m\u001b[0mpath\u001b[0m\u001b[1;33m.\u001b[0m\u001b[0mjoin\u001b[0m\u001b[1;33m(\u001b[0m\u001b[0moutput\u001b[0m\u001b[1;33m,\u001b[0m\u001b[0mos\u001b[0m\u001b[1;33m.\u001b[0m\u001b[0mpath\u001b[0m\u001b[1;33m.\u001b[0m\u001b[0mbasename\u001b[0m\u001b[1;33m(\u001b[0m\u001b[0mimage\u001b[0m\u001b[1;33m)\u001b[0m\u001b[1;33m)\u001b[0m\u001b[1;33m\u001b[0m\u001b[1;33m\u001b[0m\u001b[0m\n\u001b[0m",
      "\u001b[1;31mNameError\u001b[0m: name 'image' is not defined"
     ]
    }
   ],
   "source": [
    "os.path.join(output,os.path.basename(image))"
   ]
  },
  {
   "cell_type": "code",
   "execution_count": 47,
   "metadata": {},
   "outputs": [
    {
     "data": {
      "text/plain": [
       "(0, 255)"
      ]
     },
     "execution_count": 47,
     "metadata": {},
     "output_type": "execute_result"
    }
   ],
   "source": [
    "out_range=(0,255)\n",
    "out_range\n"
   ]
  },
  {
   "cell_type": "code",
   "execution_count": null,
   "metadata": {},
   "outputs": [],
   "source": []
  }
 ],
 "metadata": {
  "kernelspec": {
   "display_name": "Python 3",
   "language": "python",
   "name": "python3"
  },
  "language_info": {
   "codemirror_mode": {
    "name": "ipython",
    "version": 3
   },
   "file_extension": ".py",
   "mimetype": "text/x-python",
   "name": "python",
   "nbconvert_exporter": "python",
   "pygments_lexer": "ipython3",
   "version": "3.6.4"
  }
 },
 "nbformat": 4,
 "nbformat_minor": 2
}
